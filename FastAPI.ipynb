{
  "cells": [
    {
      "cell_type": "code",
      "execution_count": 1,
      "metadata": {
        "colab": {
          "base_uri": "https://localhost:8080/"
        },
        "id": "Tgij4wimBB83",
        "outputId": "a18ea4c7-38f2-4c33-f161-729a2c13d3ee"
      },
      "outputs": [
        {
          "output_type": "stream",
          "name": "stdout",
          "text": [
            "Drive already mounted at /content/drive; to attempt to forcibly remount, call drive.mount(\"/content/drive\", force_remount=True).\n"
          ]
        }
      ],
      "source": [
        "from google.colab import drive\n",
        "drive.mount('/content/drive')"
      ]
    },
    {
      "cell_type": "code",
      "execution_count": 2,
      "metadata": {
        "colab": {
          "base_uri": "https://localhost:8080/"
        },
        "id": "jh5yk0InCcbt",
        "outputId": "452e8113-005a-40ad-bde1-1f4ab5883e3a"
      },
      "outputs": [
        {
          "output_type": "stream",
          "name": "stdout",
          "text": [
            "Looking in indexes: https://pypi.org/simple, https://us-python.pkg.dev/colab-wheels/public/simple/\n",
            "Requirement already satisfied: fastapi in /usr/local/lib/python3.8/dist-packages (0.89.1)\n",
            "Requirement already satisfied: nest-asyncio in /usr/local/lib/python3.8/dist-packages (1.5.6)\n",
            "Requirement already satisfied: pyngrok in /usr/local/lib/python3.8/dist-packages (5.2.1)\n",
            "Requirement already satisfied: uvicorn in /usr/local/lib/python3.8/dist-packages (0.20.0)\n",
            "Requirement already satisfied: starlette==0.22.0 in /usr/local/lib/python3.8/dist-packages (from fastapi) (0.22.0)\n",
            "Requirement already satisfied: pydantic!=1.7,!=1.7.1,!=1.7.2,!=1.7.3,!=1.8,!=1.8.1,<2.0.0,>=1.6.2 in /usr/local/lib/python3.8/dist-packages (from fastapi) (1.10.4)\n",
            "Requirement already satisfied: typing-extensions>=3.10.0 in /usr/local/lib/python3.8/dist-packages (from starlette==0.22.0->fastapi) (4.4.0)\n",
            "Requirement already satisfied: anyio<5,>=3.4.0 in /usr/local/lib/python3.8/dist-packages (from starlette==0.22.0->fastapi) (3.6.2)\n",
            "Requirement already satisfied: PyYAML in /usr/local/lib/python3.8/dist-packages (from pyngrok) (6.0)\n",
            "Requirement already satisfied: click>=7.0 in /usr/local/lib/python3.8/dist-packages (from uvicorn) (7.1.2)\n",
            "Requirement already satisfied: h11>=0.8 in /usr/local/lib/python3.8/dist-packages (from uvicorn) (0.14.0)\n",
            "Requirement already satisfied: idna>=2.8 in /usr/local/lib/python3.8/dist-packages (from anyio<5,>=3.4.0->starlette==0.22.0->fastapi) (2.10)\n",
            "Requirement already satisfied: sniffio>=1.1 in /usr/local/lib/python3.8/dist-packages (from anyio<5,>=3.4.0->starlette==0.22.0->fastapi) (1.3.0)\n"
          ]
        }
      ],
      "source": [
        "!pip install fastapi nest-asyncio pyngrok uvicorn"
      ]
    },
    {
      "cell_type": "code",
      "execution_count": 3,
      "metadata": {
        "colab": {
          "base_uri": "https://localhost:8080/"
        },
        "id": "S7-3CWosKVnS",
        "outputId": "19876282-6400-4f72-96b2-c5ad4c40fbd7"
      },
      "outputs": [
        {
          "output_type": "stream",
          "name": "stdout",
          "text": [
            "Looking in indexes: https://pypi.org/simple, https://us-python.pkg.dev/colab-wheels/public/simple/\n",
            "Requirement already satisfied: python-multipart in /usr/local/lib/python3.8/dist-packages (0.0.5)\n",
            "Requirement already satisfied: six>=1.4.0 in /usr/local/lib/python3.8/dist-packages (from python-multipart) (1.15.0)\n"
          ]
        }
      ],
      "source": [
        "pip install python-multipart"
      ]
    },
    {
      "cell_type": "code",
      "execution_count": 4,
      "metadata": {
        "id": "G8lhHVEaCjli"
      },
      "outputs": [],
      "source": [
        "rootPath = \"drive/MyDrive/AIML/FastAPI/ML/UI\""
      ]
    },
    {
      "cell_type": "code",
      "execution_count": 5,
      "metadata": {
        "id": "G22pCMw7C1G7"
      },
      "outputs": [],
      "source": [
        "import os\n",
        "os.chdir(rootPath)"
      ]
    },
    {
      "cell_type": "code",
      "execution_count": 6,
      "metadata": {
        "colab": {
          "base_uri": "https://localhost:8080/"
        },
        "id": "wG88mDO4DLxh",
        "outputId": "1eddf5bf-424c-4ad0-b953-708e39448e0d"
      },
      "outputs": [
        {
          "output_type": "execute_result",
          "data": {
            "text/plain": [
              "['main.py',\n",
              " 'yolov5s.pt',\n",
              " 'runs',\n",
              " 'html',\n",
              " '.git',\n",
              " '__pycache__',\n",
              " 'static',\n",
              " 'tmp',\n",
              " '.ipynb_checkpoints',\n",
              " 'app.py']"
            ]
          },
          "metadata": {},
          "execution_count": 6
        }
      ],
      "source": [
        "#os.chdir('UI')\n",
        "os.listdir()"
      ]
    },
    {
      "cell_type": "code",
      "execution_count": 7,
      "metadata": {
        "colab": {
          "base_uri": "https://localhost:8080/"
        },
        "id": "ehkwICbiNyxS",
        "outputId": "c9fd2a8a-4a4a-440e-bbac-70c37112b9f6"
      },
      "outputs": [
        {
          "output_type": "stream",
          "name": "stdout",
          "text": [
            "Authtoken saved to configuration file: /root/.ngrok2/ngrok.yml\n"
          ]
        }
      ],
      "source": [
        "!ngrok authtoken 2KzNkXBr1gcA1gEzOkyo64Nvpjb_tb3UnFjYQa25A5Tdw4u8"
      ]
    },
    {
      "cell_type": "code",
      "execution_count": null,
      "metadata": {
        "colab": {
          "base_uri": "https://localhost:8080/"
        },
        "id": "3JGSDu_YDfQj",
        "outputId": "9aaf82be-75fe-4ab3-9607-e47dc713c48d"
      },
      "outputs": [
        {
          "metadata": {
            "tags": null
          },
          "name": "stdout",
          "output_type": "stream",
          "text": [
            "Public URL: http://7afb-34-83-126-25.ngrok.io\n",
            "Hello from Main\n",
            "['main.py', 'yolov5s.pt', 'runs', 'html', '.git', '__pycache__', 'static', 'tmp', '.ipynb_checkpoints', 'app.py']\n"
          ]
        },
        {
          "metadata": {
            "tags": null
          },
          "name": "stderr",
          "output_type": "stream",
          "text": [
            "Using cache found in /root/.cache/torch/hub/ultralytics_yolov5_master\n",
            "YOLOv5 🚀 2023-1-29 Python-3.8.10 torch-1.13.1+cu116 CPU\n",
            "\n",
            "Fusing layers... \n",
            "YOLOv5s summary: 213 layers, 7225885 parameters, 0 gradients\n",
            "Adding AutoShape... \n",
            "INFO:     Started server process [39483]\n",
            "INFO:     Waiting for application startup.\n",
            "INFO:     Application startup complete.\n",
            "INFO:     Uvicorn running on http://127.0.0.1:80 (Press CTRL+C to quit)\n"
          ]
        },
        {
          "metadata": {
            "tags": null
          },
          "name": "stdout",
          "output_type": "stream",
          "text": [
            "INFO:     49.43.203.110:0 - \"GET / HTTP/1.1\" 404 Not Found\n",
            "INFO:     49.43.203.110:0 - \"GET /favicon.ico HTTP/1.1\" 404 Not Found\n",
            "INFO:     49.43.203.110:0 - \"GET /index HTTP/1.1\" 200 OK\n",
            "INFO:     49.43.203.110:0 - \"GET /logo.jpg HTTP/1.1\" 200 OK\n",
            "INFO:     49.43.203.110:0 - \"GET /project HTTP/1.1\" 200 OK\n",
            "INFO:     49.43.203.110:0 - \"GET /favicon.ico HTTP/1.1\" 404 Not Found\n",
            "INFO:     49.43.203.110:0 - \"GET /yolov5_t1 HTTP/1.1\" 200 OK\n",
            "INFO:     49.43.203.110:0 - \"POST /yolov5_a1 HTTP/1.1\" 200 OK\n",
            "INFO:     49.43.203.110:0 - \"GET /image/db769e1b-8cc8-4b8b-9686-04514a30d46b.jpg HTTP/1.1\" 200 OK\n",
            "INFO:     49.43.203.110:0 - \"GET /image/db769e1b-8cc8-4b8b-9686-04514a30d46b_res.jpg HTTP/1.1\" 200 OK\n",
            "INFO:     49.43.203.110:0 - \"POST /yolov5_a1 HTTP/1.1\" 200 OK\n",
            "INFO:     49.43.203.110:0 - \"GET /image/15828449-4725-4240-a27b-82642127d96a.jpg HTTP/1.1\" 200 OK\n",
            "INFO:     49.43.203.110:0 - \"GET /image/15828449-4725-4240-a27b-82642127d96a_res.jpg HTTP/1.1\" 200 OK\n",
            "INFO:     2401:4900:33b8:6917:8d4e:e77f:43cb:3cff:0 - \"GET /index HTTP/1.1\" 200 OK\n",
            "INFO:     2401:4900:33b8:6917:8d4e:e77f:43cb:3cff:0 - \"GET /logo.jpg HTTP/1.1\" 200 OK\n",
            "INFO:     2401:4900:33b8:6917:8d4e:e77f:43cb:3cff:0 - \"GET /project HTTP/1.1\" 200 OK\n",
            "INFO:     2401:4900:33b8:6917:8d4e:e77f:43cb:3cff:0 - \"GET /favicon.ico HTTP/1.1\" 404 Not Found\n",
            "INFO:     2401:4900:33b8:6917:8d4e:e77f:43cb:3cff:0 - \"GET /favicon.ico HTTP/1.1\" 404 Not Found\n",
            "INFO:     2401:4900:33b8:6917:8d4e:e77f:43cb:3cff:0 - \"GET /favicon.ico HTTP/1.1\" 404 Not Found\n",
            "INFO:     2401:4900:33b8:6917:8d4e:e77f:43cb:3cff:0 - \"GET /yolov5_t1 HTTP/1.1\" 200 OK\n",
            "INFO:     49.43.203.110:0 - \"GET /yolov5_t2 HTTP/1.1\" 200 OK\n",
            "INFO:     49.43.203.110:0 - \"POST /yolov5_a2 HTTP/1.1\" 200 OK\n",
            "INFO:     49.43.203.110:0 - \"GET /image/a111c384-40ad-4537-9cc3-8a4740b29a6f.mp4 HTTP/1.1\" 200 OK\n",
            "INFO:     49.43.203.110:0 - \"GET /image/a111c384-40ad-4537-9cc3-8a4740b29a6f_res.mp4 HTTP/1.1\" 500 Internal Server Error\n"
          ]
        },
        {
          "metadata": {
            "tags": null
          },
          "name": "stderr",
          "output_type": "stream",
          "text": [
            "ERROR:    Exception in ASGI application\n",
            "Traceback (most recent call last):\n",
            "  File \"/usr/local/lib/python3.8/dist-packages/starlette/responses.py\", line 331, in __call__\n",
            "    stat_result = await anyio.to_thread.run_sync(os.stat, self.path)\n",
            "  File \"/usr/local/lib/python3.8/dist-packages/anyio/to_thread.py\", line 31, in run_sync\n",
            "    return await get_asynclib().run_sync_in_worker_thread(\n",
            "  File \"/usr/local/lib/python3.8/dist-packages/anyio/_backends/_asyncio.py\", line 937, in run_sync_in_worker_thread\n",
            "    return await future\n",
            "  File \"/usr/lib/python3.8/asyncio/futures.py\", line 260, in __await__\n",
            "    yield self  # This tells Task to wait for completion.\n",
            "  File \"/usr/lib/python3.8/asyncio/tasks.py\", line 349, in __wakeup\n",
            "    future.result()\n",
            "  File \"/usr/lib/python3.8/asyncio/futures.py\", line 178, in result\n",
            "    raise self._exception\n",
            "  File \"/usr/local/lib/python3.8/dist-packages/anyio/_backends/_asyncio.py\", line 867, in run\n",
            "    result = context.run(func, *args)\n",
            "FileNotFoundError: [Errno 2] No such file or directory: './tmp/a111c384-40ad-4537-9cc3-8a4740b29a6f_res.mp4'\n",
            "\n",
            "During handling of the above exception, another exception occurred:\n",
            "\n",
            "Traceback (most recent call last):\n",
            "  File \"/usr/local/lib/python3.8/dist-packages/uvicorn/protocols/http/h11_impl.py\", line 407, in run_asgi\n",
            "    result = await app(  # type: ignore[func-returns-value]\n",
            "  File \"/usr/local/lib/python3.8/dist-packages/uvicorn/middleware/proxy_headers.py\", line 78, in __call__\n",
            "    return await self.app(scope, receive, send)\n",
            "  File \"/usr/local/lib/python3.8/dist-packages/fastapi/applications.py\", line 270, in __call__\n",
            "    await super().__call__(scope, receive, send)\n",
            "  File \"/usr/local/lib/python3.8/dist-packages/starlette/applications.py\", line 124, in __call__\n",
            "    await self.middleware_stack(scope, receive, send)\n",
            "  File \"/usr/local/lib/python3.8/dist-packages/starlette/middleware/errors.py\", line 184, in __call__\n",
            "    raise exc\n",
            "  File \"/usr/local/lib/python3.8/dist-packages/starlette/middleware/errors.py\", line 162, in __call__\n",
            "    await self.app(scope, receive, _send)\n",
            "  File \"/usr/local/lib/python3.8/dist-packages/starlette/middleware/cors.py\", line 84, in __call__\n",
            "    await self.app(scope, receive, send)\n",
            "  File \"/usr/local/lib/python3.8/dist-packages/starlette/middleware/exceptions.py\", line 79, in __call__\n",
            "    raise exc\n",
            "  File \"/usr/local/lib/python3.8/dist-packages/starlette/middleware/exceptions.py\", line 68, in __call__\n",
            "    await self.app(scope, receive, sender)\n",
            "  File \"/usr/local/lib/python3.8/dist-packages/fastapi/middleware/asyncexitstack.py\", line 21, in __call__\n",
            "    raise e\n",
            "  File \"/usr/local/lib/python3.8/dist-packages/fastapi/middleware/asyncexitstack.py\", line 18, in __call__\n",
            "    await self.app(scope, receive, send)\n",
            "  File \"/usr/local/lib/python3.8/dist-packages/starlette/routing.py\", line 706, in __call__\n",
            "    await route.handle(scope, receive, send)\n",
            "  File \"/usr/local/lib/python3.8/dist-packages/starlette/routing.py\", line 276, in handle\n",
            "    await self.app(scope, receive, send)\n",
            "  File \"/usr/local/lib/python3.8/dist-packages/starlette/routing.py\", line 69, in app\n",
            "    await response(scope, receive, send)\n",
            "  File \"/usr/local/lib/python3.8/dist-packages/starlette/responses.py\", line 334, in __call__\n",
            "    raise RuntimeError(f\"File at path {self.path} does not exist.\")\n",
            "RuntimeError: File at path ./tmp/a111c384-40ad-4537-9cc3-8a4740b29a6f_res.mp4 does not exist.\n"
          ]
        },
        {
          "metadata": {
            "tags": null
          },
          "name": "stdout",
          "output_type": "stream",
          "text": [
            "INFO:     49.43.203.110:0 - \"POST /yolov5_a2 HTTP/1.1\" 200 OK\n",
            "INFO:     49.43.203.110:0 - \"GET /image/99479217-d225-40f7-b751-3b746c05d7c4.mp4 HTTP/1.1\" 200 OK\n",
            "INFO:     49.43.203.110:0 - \"GET /image/99479217-d225-40f7-b751-3b746c05d7c4_res.mp4 HTTP/1.1\" 500 Internal Server Error\n"
          ]
        },
        {
          "metadata": {
            "tags": null
          },
          "name": "stderr",
          "output_type": "stream",
          "text": [
            "ERROR:    Exception in ASGI application\n",
            "Traceback (most recent call last):\n",
            "  File \"/usr/local/lib/python3.8/dist-packages/starlette/responses.py\", line 331, in __call__\n",
            "    stat_result = await anyio.to_thread.run_sync(os.stat, self.path)\n",
            "  File \"/usr/local/lib/python3.8/dist-packages/anyio/to_thread.py\", line 31, in run_sync\n",
            "    return await get_asynclib().run_sync_in_worker_thread(\n",
            "  File \"/usr/local/lib/python3.8/dist-packages/anyio/_backends/_asyncio.py\", line 937, in run_sync_in_worker_thread\n",
            "    return await future\n",
            "  File \"/usr/lib/python3.8/asyncio/futures.py\", line 260, in __await__\n",
            "    yield self  # This tells Task to wait for completion.\n",
            "  File \"/usr/lib/python3.8/asyncio/tasks.py\", line 349, in __wakeup\n",
            "    future.result()\n",
            "  File \"/usr/lib/python3.8/asyncio/futures.py\", line 178, in result\n",
            "    raise self._exception\n",
            "  File \"/usr/local/lib/python3.8/dist-packages/anyio/_backends/_asyncio.py\", line 867, in run\n",
            "    result = context.run(func, *args)\n",
            "FileNotFoundError: [Errno 2] No such file or directory: './tmp/99479217-d225-40f7-b751-3b746c05d7c4_res.mp4'\n",
            "\n",
            "During handling of the above exception, another exception occurred:\n",
            "\n",
            "Traceback (most recent call last):\n",
            "  File \"/usr/local/lib/python3.8/dist-packages/uvicorn/protocols/http/h11_impl.py\", line 407, in run_asgi\n",
            "    result = await app(  # type: ignore[func-returns-value]\n",
            "  File \"/usr/local/lib/python3.8/dist-packages/uvicorn/middleware/proxy_headers.py\", line 78, in __call__\n",
            "    return await self.app(scope, receive, send)\n",
            "  File \"/usr/local/lib/python3.8/dist-packages/fastapi/applications.py\", line 270, in __call__\n",
            "    await super().__call__(scope, receive, send)\n",
            "  File \"/usr/local/lib/python3.8/dist-packages/starlette/applications.py\", line 124, in __call__\n",
            "    await self.middleware_stack(scope, receive, send)\n",
            "  File \"/usr/local/lib/python3.8/dist-packages/starlette/middleware/errors.py\", line 184, in __call__\n",
            "    raise exc\n",
            "  File \"/usr/local/lib/python3.8/dist-packages/starlette/middleware/errors.py\", line 162, in __call__\n",
            "    await self.app(scope, receive, _send)\n",
            "  File \"/usr/local/lib/python3.8/dist-packages/starlette/middleware/cors.py\", line 84, in __call__\n",
            "    await self.app(scope, receive, send)\n",
            "  File \"/usr/local/lib/python3.8/dist-packages/starlette/middleware/exceptions.py\", line 79, in __call__\n",
            "    raise exc\n",
            "  File \"/usr/local/lib/python3.8/dist-packages/starlette/middleware/exceptions.py\", line 68, in __call__\n",
            "    await self.app(scope, receive, sender)\n",
            "  File \"/usr/local/lib/python3.8/dist-packages/fastapi/middleware/asyncexitstack.py\", line 21, in __call__\n",
            "    raise e\n",
            "  File \"/usr/local/lib/python3.8/dist-packages/fastapi/middleware/asyncexitstack.py\", line 18, in __call__\n",
            "    await self.app(scope, receive, send)\n",
            "  File \"/usr/local/lib/python3.8/dist-packages/starlette/routing.py\", line 706, in __call__\n",
            "    await route.handle(scope, receive, send)\n",
            "  File \"/usr/local/lib/python3.8/dist-packages/starlette/routing.py\", line 276, in handle\n",
            "    await self.app(scope, receive, send)\n",
            "  File \"/usr/local/lib/python3.8/dist-packages/starlette/routing.py\", line 69, in app\n",
            "    await response(scope, receive, send)\n",
            "  File \"/usr/local/lib/python3.8/dist-packages/starlette/responses.py\", line 334, in __call__\n",
            "    raise RuntimeError(f\"File at path {self.path} does not exist.\")\n",
            "RuntimeError: File at path ./tmp/99479217-d225-40f7-b751-3b746c05d7c4_res.mp4 does not exist.\n"
          ]
        },
        {
          "metadata": {
            "tags": null
          },
          "name": "stdout",
          "output_type": "stream",
          "text": [
            "INFO:     49.43.203.110:0 - \"GET /team HTTP/1.1\" 200 OK\n",
            "INFO:     49.43.203.110:0 - \"GET /project HTTP/1.1\" 200 OK\n",
            "INFO:     49.43.203.110:0 - \"GET /team HTTP/1.1\" 200 OK\n",
            "INFO:     49.43.203.110:0 - \"GET /yolov5_t1 HTTP/1.1\" 200 OK\n",
            "INFO:     49.43.203.110:0 - \"POST /yolov5_a1 HTTP/1.1\" 200 OK\n",
            "INFO:     49.43.203.110:0 - \"GET /image/8cf8732c-f48c-4162-9fc7-dbabf395723f_res.jpg HTTP/1.1\" 200 OK\n",
            "INFO:     49.43.203.110:0 - \"GET /image/8cf8732c-f48c-4162-9fc7-dbabf395723f.jpg HTTP/1.1\" 200 OK\n",
            "INFO:     49.43.203.110:0 - \"POST /yolov5_a1 HTTP/1.1\" 200 OK\n",
            "INFO:     49.43.203.110:0 - \"GET /image/c7260013-6037-4a4f-b809-cb2ec7f7f914.jpg HTTP/1.1\" 200 OK\n",
            "INFO:     49.43.203.110:0 - \"GET /image/c7260013-6037-4a4f-b809-cb2ec7f7f914_res.jpg HTTP/1.1\" 200 OK\n",
            "INFO:     49.43.203.110:0 - \"POST /yolov5_a1 HTTP/1.1\" 200 OK\n",
            "INFO:     49.43.203.110:0 - \"GET /image/6e897861-020b-46d7-9c36-7d658eeab157_res.jpg HTTP/1.1\" 200 OK\n",
            "INFO:     49.43.203.110:0 - \"GET /image/6e897861-020b-46d7-9c36-7d658eeab157.jpg HTTP/1.1\" 200 OK\n"
          ]
        }
      ],
      "source": [
        "import nest_asyncio\n",
        "from pyngrok import ngrok\n",
        "import uvicorn\n",
        "\n",
        "ngrok_tunnel = ngrok.connect(80)\n",
        "print('Public URL:', ngrok_tunnel.public_url)\n",
        "nest_asyncio.apply()\n",
        "uvicorn.run(\"main:app\", port=80)"
      ]
    }
  ],
  "metadata": {
    "colab": {
      "provenance": []
    },
    "kernelspec": {
      "display_name": "Python 3",
      "name": "python3"
    },
    "language_info": {
      "name": "python"
    }
  },
  "nbformat": 4,
  "nbformat_minor": 0
}